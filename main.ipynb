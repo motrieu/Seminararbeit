{
 "cells": [
  {
   "cell_type": "markdown",
   "metadata": {},
   "source": [
    "# Seminararbeit: Machine Learned Hyperelastic Potentials\n",
    "Moritz Trieu [3532051]"
   ]
  },
  {
   "cell_type": "markdown",
   "metadata": {},
   "source": [
    "## Initialize File"
   ]
  },
  {
   "cell_type": "markdown",
   "metadata": {},
   "source": [
    "Import all neccassary libraries"
   ]
  },
  {
   "cell_type": "code",
   "execution_count": 5,
   "metadata": {},
   "outputs": [],
   "source": [
    "import torch\n",
    "import torch.nn as nn"
   ]
  },
  {
   "cell_type": "markdown",
   "metadata": {},
   "source": [
    "Check for GPU avalibility and set global device status"
   ]
  },
  {
   "cell_type": "code",
   "execution_count": 4,
   "metadata": {},
   "outputs": [
    {
     "name": "stdout",
     "output_type": "stream",
     "text": [
      "CUDA is available on this system, setting device to GPU\n"
     ]
    }
   ],
   "source": [
    "system_device =  \"cpu\"\n",
    "\n",
    "if torch.cuda.is_available() :\n",
    "    print(f\"CUDA is available on this system, setting device to GPU\")\n",
    "    system_device = \"cuda\"\n",
    "else:\n",
    "    print(f\"CUDA not available on this system, setting device to CPU\")\n",
    "\n",
    "device = torch.device(system_device)"
   ]
  },
  {
   "cell_type": "markdown",
   "metadata": {},
   "source": [
    "## Setting up Data"
   ]
  },
  {
   "cell_type": "markdown",
   "metadata": {},
   "source": [
    "## Constructing General Model"
   ]
  },
  {
   "cell_type": "code",
   "execution_count": 8,
   "metadata": {},
   "outputs": [],
   "source": [
    "# General Hyperparameteres\n",
    "hidden_size = 8\n",
    "num_epochs = 100\n",
    "batch_size = 100\n",
    "learning_rate = 0.01\n",
    "\n",
    "class GeneralNeuralNet(nn.Module):\n",
    "    def __init__(self, input_size, hidden_size=hidden_size):\n",
    "        super(GeneralNeuralNet, self).__init__()\n",
    "        self.input_size = input_size\n",
    "        self.hidden_size = hidden_size\n",
    "\n",
    "        self.l1 = nn.Linear(self.input_size, self.hidden_size)\n",
    "        self.l2 = nn.Linear(self.hidden_size, self.hidden_size)\n",
    "        self.l3 = nn.Linear(self.hidden_size, 1)\n",
    "        self.leaky_relu = nn.LeakyReLU()\n",
    "\n",
    "    def forward(self, input):\n",
    "        out = self.leaky_relu(self.l1(input))\n",
    "        out = self.leaky_relu(self.l2(out))\n",
    "        out = self.l3(out)\n",
    "\n",
    "        return out\n"
   ]
  },
  {
   "cell_type": "markdown",
   "metadata": {},
   "source": [
    "## Setting up STRAIN model"
   ]
  },
  {
   "cell_type": "code",
   "execution_count": 9,
   "metadata": {},
   "outputs": [],
   "source": [
    "strain_input_size = 6\n",
    "\n",
    "class StrainNeuralNet(GeneralNeuralNet):\n",
    "    def __init__(self, input_size):\n",
    "        super(StrainNeuralNet, self).__init__(input_size)\n",
    "\n",
    "strain_model = StrainNeuralNet(strain_input_size).to(device)"
   ]
  },
  {
   "cell_type": "markdown",
   "metadata": {},
   "source": [
    "## Setting up INVARIANT model"
   ]
  },
  {
   "cell_type": "code",
   "execution_count": 10,
   "metadata": {},
   "outputs": [],
   "source": [
    "invariant_input_size = 3\n",
    "\n",
    "class InvariantNeuralNet(GeneralNeuralNet):\n",
    "    def __init__(self, input_size):\n",
    "        super(InvariantNeuralNet, self).__init__(input_size)\n",
    "\n",
    "invariant_model = InvariantNeuralNet(invariant_input_size)"
   ]
  }
 ],
 "metadata": {
  "interpreter": {
   "hash": "08947ae1826f2ece435e966b892878742bad16fb920615abadf254de0d5b50ce"
  },
  "kernelspec": {
   "display_name": "Python 3.10.4 ('jupyter-seminar')",
   "language": "python",
   "name": "python3"
  },
  "language_info": {
   "codemirror_mode": {
    "name": "ipython",
    "version": 3
   },
   "file_extension": ".py",
   "mimetype": "text/x-python",
   "name": "python",
   "nbconvert_exporter": "python",
   "pygments_lexer": "ipython3",
   "version": "3.10.4"
  },
  "orig_nbformat": 4
 },
 "nbformat": 4,
 "nbformat_minor": 2
}
